{
 "cells": [
  {
   "cell_type": "code",
   "execution_count": 1,
   "id": "8ac5ce05-9a33-4b05-a9a6-c13961037e07",
   "metadata": {},
   "outputs": [],
   "source": [
    "import pandas as pd\n",
    "import numpy as np"
   ]
  },
  {
   "cell_type": "code",
   "execution_count": 2,
   "id": "484d4df9-f403-4292-bbe0-0db8661707eb",
   "metadata": {},
   "outputs": [],
   "source": [
    "column_names = ['WMC', 'DIT', 'NOC', 'CBO', 'RFC', 'LCOM', 'Ca', 'Ce', 'NPM', 'LCOM3', 'LCO', 'DAM', 'MOA', 'MFA', 'CAM', 'IC', 'CBM', 'AMC']\n",
    "data = pd.read_csv('../dataset/ckjm_metrics_data.csv', names = column_names)"
   ]
  },
  {
   "cell_type": "code",
   "execution_count": 3,
   "id": "862ea0b8-4a42-4d7b-9279-3c515285304c",
   "metadata": {},
   "outputs": [
    {
     "name": "stdout",
     "output_type": "stream",
     "text": [
      "    WMC  DIT  NOC  CBO   RFC  LCOM  Ca  Ce  NPM  LCOM3  LCO  DAM  MOA  MFA  \\\n",
      "3     4    0    9    7     3     8   2   2    2     21    0    0    0    0   \n",
      "4     1    1    2    5     6     1   1   4    2     12    0    0    0    0   \n",
      "6     1    0    3   18     0     0   3   4    0     89    0    0    0    0   \n",
      "3     3    0    4   19     0     1   4   1    0    105    0    0    0    0   \n",
      "5     3    0    3   19     4     0   3   4    0    134    1    0    0    0   \n",
      "..  ...  ...  ...  ...   ...   ...  ..  ..  ...    ...  ...  ...  ...  ...   \n",
      "5     1    2    5   18     4     2   3   5    0    108    1    1    0    0   \n",
      "2     1    0    4    2     1     3   2   2    2      2    0    0    0    0   \n",
      "68    1    0   11  127  2258     9   2  62    0   1854    0    0    0    0   \n",
      "12    3    0   15   66    44     2  14   7    0    488    1    0    0    0   \n",
      "3     1    1    1    4     3     1   0   3    2      8    0    0    0    0   \n",
      "\n",
      "    CAM  IC  CBM     AMC  \n",
      "3     0   0    6  1.0000  \n",
      "4     0   0    2  1.0000  \n",
      "6     1   1   13  1.3333  \n",
      "3     1   1   33  1.3333  \n",
      "5     2   2   25  2.2000  \n",
      "..  ...  ..  ...     ...  \n",
      "5     0   0   20  2.4000  \n",
      "2     0   0    0  1.0000  \n",
      "68    0   0   25  4.0588  \n",
      "12    0   0   39  4.4167  \n",
      "3     0   0    1  1.0000  \n",
      "\n",
      "[5081 rows x 18 columns]\n"
     ]
    }
   ],
   "source": [
    "print(data)"
   ]
  },
  {
   "cell_type": "code",
   "execution_count": 4,
   "id": "d779f35c-d583-46f7-80f8-c4de4a5c3f19",
   "metadata": {},
   "outputs": [
    {
     "name": "stdout",
     "output_type": "stream",
     "text": [
      "    WMC  DIT  NOC  CBO   RFC  LCOM  Ca  Ce  NPM  LCOM3  LCO  DAM  MOA  MFA  \\\n",
      "3     4    0    9    7     3     8   2   2    2     21    0    0    0    0   \n",
      "4     1    1    2    5     6     1   1   4    2     12    0    0    0    0   \n",
      "6     1    0    3   18     0     0   3   4    0     89    0    0    0    0   \n",
      "3     3    0    4   19     0     1   4   1    0    105    0    0    0    0   \n",
      "5     3    0    3   19     4     0   3   4    0    134    1    0    0    0   \n",
      "..  ...  ...  ...  ...   ...   ...  ..  ..  ...    ...  ...  ...  ...  ...   \n",
      "5     1    2    5   18     4     2   3   5    0    108    1    1    0    0   \n",
      "2     1    0    4    2     1     3   2   2    2      2    0    0    0    0   \n",
      "68    1    0   11  127  2258     9   2  62    0   1854    0    0    0    0   \n",
      "12    3    0   15   66    44     2  14   7    0    488    1    0    0    0   \n",
      "3     1    1    1    4     3     1   0   3    2      8    0    0    0    0   \n",
      "\n",
      "    CAM  IC  CBM     AMC  \n",
      "3     0   0    6  1.0000  \n",
      "4     0   0    2  1.0000  \n",
      "6     1   1   13  1.3333  \n",
      "3     1   1   33  1.3333  \n",
      "5     2   2   25  2.2000  \n",
      "..  ...  ..  ...     ...  \n",
      "5     0   0   20  2.4000  \n",
      "2     0   0    0  1.0000  \n",
      "68    0   0   25  4.0588  \n",
      "12    0   0   39  4.4167  \n",
      "3     0   0    1  1.0000  \n",
      "\n",
      "[4881 rows x 18 columns]\n"
     ]
    }
   ],
   "source": [
    "data = data.dropna()\n",
    "print(data)"
   ]
  },
  {
   "cell_type": "code",
   "execution_count": 5,
   "id": "b8616321-aabc-4591-8dca-35ad2a996387",
   "metadata": {},
   "outputs": [],
   "source": [
    "def calculate_iqr(column):\n",
    "    return np.percentile(column, 75) - np.percentile(column, 25)\n",
    "\n",
    "def calculate_mode(column):\n",
    "    mode_counts = column.value_counts()\n",
    "    max_count = mode_counts.max()\n",
    "    modes = mode_counts[mode_counts == max_count].index.tolist()\n",
    "    if len(modes) == 1:\n",
    "        return modes[0]\n",
    "    else:\n",
    "        return modes"
   ]
  },
  {
   "cell_type": "code",
   "execution_count": 6,
   "id": "0dcb0abe-2830-41ac-8e35-811ff80ed51d",
   "metadata": {},
   "outputs": [
    {
     "name": "stdout",
     "output_type": "stream",
     "text": [
      "             Mean           Std   Median  Mode    IQR      Range\n",
      "WMC      1.872362      1.298603   1.0000   1.0    1.0       12.0\n",
      "DIT      0.381069      2.605606   0.0000   0.0    0.0      106.0\n",
      "NOC      9.176193     18.608347   5.0000   2.0    7.0      510.0\n",
      "CBO     21.817660     44.461905  11.0000   7.0   19.0     1944.0\n",
      "RFC    463.187462  19850.499239   3.0000   0.0   14.0  1360425.0\n",
      "LCOM     4.717066     16.967980   1.0000   1.0    3.0      509.0\n",
      "Ca       4.982381      7.955930   3.0000   1.0    5.0      195.0\n",
      "Ce       6.744520     22.361910   3.0000   2.0    4.0     1222.0\n",
      "NPM      0.766851      0.935488   0.0000   0.0    2.0        2.0\n",
      "LCOM3  239.498668   1263.550082  56.0000   1.0  159.0    64023.0\n",
      "LCO      0.405859      0.491108   0.0000   0.0    1.0        1.0\n",
      "DAM      0.952469      5.721418   0.0000   0.0    1.0      329.0\n",
      "MOA      0.037083      0.188984   0.0000   0.0    0.0        1.0\n",
      "MFA      0.133374      0.340014   0.0000   0.0    0.0        1.0\n",
      "CAM      0.377177      0.691965   0.0000   0.0    1.0        5.0\n",
      "IC       0.838148      2.520333   0.0000   0.0    1.0       44.0\n",
      "CBM     21.157140    104.693897  10.0000   0.0   16.0     4793.0\n",
      "AMC      1.734356      1.502364   1.1667   1.0    1.0       25.0\n"
     ]
    }
   ],
   "source": [
    "descriptive_stats = {\n",
    "    'Mean': data.mean(),\n",
    "    'Std': data.std(),\n",
    "    'Median': data.median(),\n",
    "    'Mode': data.apply(calculate_mode),\n",
    "    'IQR': data.apply(calculate_iqr),\n",
    "    'Range': data.max() - data.min()\n",
    "}\n",
    "\n",
    "descriptive_stats_df = pd.DataFrame(descriptive_stats)\n",
    "\n",
    "print(descriptive_stats_df)"
   ]
  },
  {
   "cell_type": "code",
   "execution_count": null,
   "id": "b562ea1e-ab03-4e6c-a7ef-e43b4b949fe1",
   "metadata": {},
   "outputs": [],
   "source": []
  }
 ],
 "metadata": {
  "kernelspec": {
   "display_name": "Python 3 (ipykernel)",
   "language": "python",
   "name": "python3"
  },
  "language_info": {
   "codemirror_mode": {
    "name": "ipython",
    "version": 3
   },
   "file_extension": ".py",
   "mimetype": "text/x-python",
   "name": "python",
   "nbconvert_exporter": "python",
   "pygments_lexer": "ipython3",
   "version": "3.11.4"
  }
 },
 "nbformat": 4,
 "nbformat_minor": 5
}
