{
 "cells": [
  {
   "cell_type": "code",
   "execution_count": 15,
   "id": "f04106e7-9411-4635-b8aa-697a497ea505",
   "metadata": {},
   "outputs": [],
   "source": [
    "import numpy as np\n",
    "import pandas as pd\n",
    "from sklearn.preprocessing import StandardScaler, MinMaxScaler"
   ]
  },
  {
   "cell_type": "code",
   "execution_count": 16,
   "id": "acce343d-7254-4701-aab0-a8f290c80bc8",
   "metadata": {},
   "outputs": [
    {
     "name": "stdout",
     "output_type": "stream",
     "text": [
      "Original Dataset:\n",
      "   dit  noc  mpc  rfc  lcom  dac  wmc  nom  size2  size1  change\n",
      "0    1    3    4   14     5    1    3    7      9     37      14\n",
      "1    3    0    6   20     6    2    5    7      9     94      18\n",
      "2    2    0    1   12     4    1    1    6      7     26       2\n",
      "3    2    0    1    2     1    0    1    1      1      4       2\n",
      "4    1    0    1   21    12    8    0   18     26     60      10\n",
      "5    1    8    1    7     3    1    0    4      5     12      16\n",
      "6    3    1    2   12     6    1    0    6      7     26      16\n",
      "7    2    0    1   10     7    1    9    7      8     59      18\n",
      "8    2    0    1    2     1    0    1    1      1      4       2\n",
      "9    3    0    9   24     5    1    5    5      6     81      16\n"
     ]
    }
   ],
   "source": [
    "data = pd.read_csv('../dataset/UIMS.csv')\n",
    "\n",
    "print(\"Original Dataset:\")\n",
    "print(data.head(10))"
   ]
  },
  {
   "cell_type": "code",
   "execution_count": 19,
   "id": "42764f9f-ea18-4fad-a992-9b24363c7f4d",
   "metadata": {},
   "outputs": [
    {
     "name": "stdout",
     "output_type": "stream",
     "text": [
      "Dataset after StandardScaler:\n",
      "        dit       noc       mpc       rfc      lcom       dac       wmc  \\\n",
      "0 -1.292591  1.032623 -0.099164 -0.461972 -0.412516 -0.357339 -0.534327   \n",
      "1  0.947900 -0.477588  0.495822 -0.160854 -0.246659 -0.103953 -0.406873   \n",
      "2 -0.172345 -0.477588 -0.991644 -0.562345 -0.578373 -0.357339 -0.661781   \n",
      "3 -0.172345 -0.477588 -0.991644 -1.064208 -1.075943 -0.610724 -0.661781   \n",
      "4 -1.292591 -0.477588 -0.991644 -0.110667  0.748482  1.416361 -0.725508   \n",
      "5 -1.292591  3.549643 -0.991644 -0.813276 -0.744230 -0.357339 -0.725508   \n",
      "6  0.947900  0.025816 -0.694151 -0.562345 -0.246659 -0.357339 -0.725508   \n",
      "7 -0.172345 -0.477588 -0.991644 -0.662717 -0.080802 -0.357339 -0.151964   \n",
      "8 -0.172345 -0.477588 -0.991644 -1.064208 -1.075943 -0.610724 -0.661781   \n",
      "9  0.947900 -0.477588  1.388302  0.039892 -0.412516 -0.357339 -0.406873   \n",
      "\n",
      "        nom     size2     size1    change  \n",
      "0 -0.434950 -0.374222 -0.613531 -0.462502  \n",
      "1 -0.434950 -0.374222 -0.109883 -0.406135  \n",
      "2 -0.534149 -0.524682 -0.710726 -0.631605  \n",
      "3 -1.030144 -0.976063 -0.905117 -0.631605  \n",
      "4  0.656240  0.904691 -0.410305 -0.518870  \n",
      "5 -0.732547 -0.675142 -0.834430 -0.434319  \n",
      "6 -0.534149 -0.524682 -0.710726 -0.434319  \n",
      "7 -0.434950 -0.449452 -0.419141 -0.406135  \n",
      "8 -1.030144 -0.976063 -0.905117 -0.631605  \n",
      "9 -0.633348 -0.599912 -0.224750 -0.434319  \n"
     ]
    }
   ],
   "source": [
    "scaler_standard = StandardScaler()\n",
    "data_standard_scaled = scaler_standard.fit_transform(data)\n",
    "data_standard_scaled = pd.DataFrame(data_standard_scaled, columns=data.columns)\n",
    "print(\"Dataset after StandardScaler:\")\n",
    "print(data_standard_scaled.head(10))"
   ]
  },
  {
   "cell_type": "code",
   "execution_count": 20,
   "id": "a7cb2d29-4c2c-404c-9904-65c361e42928",
   "metadata": {},
   "outputs": [
    {
     "name": "stdout",
     "output_type": "stream",
     "text": [
      "Dataset after MinMaxScaler:\n",
      "    dit    noc       mpc       rfc      lcom       dac       wmc       nom  \\\n",
      "0  0.25  0.375  0.272727  0.121212  0.133333  0.047619  0.043478  0.153846   \n",
      "1  0.75  0.000  0.454545  0.181818  0.166667  0.095238  0.072464  0.153846   \n",
      "2  0.50  0.000  0.000000  0.101010  0.100000  0.047619  0.014493  0.128205   \n",
      "3  0.50  0.000  0.000000  0.000000  0.000000  0.000000  0.014493  0.000000   \n",
      "4  0.25  0.000  0.000000  0.191919  0.366667  0.380952  0.000000  0.435897   \n",
      "5  0.25  1.000  0.000000  0.050505  0.066667  0.047619  0.000000  0.076923   \n",
      "6  0.75  0.125  0.090909  0.101010  0.166667  0.047619  0.000000  0.128205   \n",
      "7  0.50  0.000  0.000000  0.080808  0.200000  0.047619  0.130435  0.153846   \n",
      "8  0.50  0.000  0.000000  0.000000  0.000000  0.000000  0.014493  0.000000   \n",
      "9  0.75  0.000  0.727273  0.222222  0.133333  0.047619  0.072464  0.102564   \n",
      "\n",
      "      size2     size1    change  \n",
      "0  0.133333  0.075862  0.041812  \n",
      "1  0.133333  0.206897  0.055749  \n",
      "2  0.100000  0.050575  0.000000  \n",
      "3  0.000000  0.000000  0.000000  \n",
      "4  0.416667  0.128736  0.027875  \n",
      "5  0.066667  0.018391  0.048780  \n",
      "6  0.100000  0.050575  0.048780  \n",
      "7  0.116667  0.126437  0.055749  \n",
      "8  0.000000  0.000000  0.000000  \n",
      "9  0.083333  0.177011  0.048780  \n"
     ]
    }
   ],
   "source": [
    "scaler_minmax = MinMaxScaler()\n",
    "data_minmax_scaled = scaler_minmax.fit_transform(data)\n",
    "data_minmax_scaled = pd.DataFrame(data_minmax_scaled, columns=data.columns)\n",
    "print(\"Dataset after MinMaxScaler:\")\n",
    "print(data_minmax_scaled.head(10))"
   ]
  },
  {
   "cell_type": "code",
   "execution_count": null,
   "id": "fc7b4e6e-c22c-442f-b9ab-11e5cca25f3c",
   "metadata": {},
   "outputs": [],
   "source": []
  }
 ],
 "metadata": {
  "kernelspec": {
   "display_name": "Python 3 (ipykernel)",
   "language": "python",
   "name": "python3"
  },
  "language_info": {
   "codemirror_mode": {
    "name": "ipython",
    "version": 3
   },
   "file_extension": ".py",
   "mimetype": "text/x-python",
   "name": "python",
   "nbconvert_exporter": "python",
   "pygments_lexer": "ipython3",
   "version": "3.11.4"
  }
 },
 "nbformat": 4,
 "nbformat_minor": 5
}
