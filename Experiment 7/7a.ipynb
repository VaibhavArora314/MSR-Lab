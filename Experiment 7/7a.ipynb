{
 "cells": [
  {
   "cell_type": "code",
   "execution_count": 13,
   "id": "8ea12623-1b2a-4395-9cb4-a4058df9c329",
   "metadata": {},
   "outputs": [],
   "source": [
    "import numpy as np\n",
    "import pandas as pd\n",
    "import matplotlib.pyplot as plt\n",
    "from sklearn.decomposition import PCA\n",
    "from sklearn.preprocessing import StandardScaler\n",
    "from sklearn import linear_model\n",
    "from sklearn import metrics\n",
    "from sklearn.model_selection import train_test_split"
   ]
  },
  {
   "cell_type": "code",
   "execution_count": 28,
   "id": "8d859dee-4117-452a-a723-63fdd8aaed8c",
   "metadata": {},
   "outputs": [],
   "source": [
    "def exp7a(dataset):\n",
    "    print(dataset)\n",
    "    df = pd.read_csv(\"../dataset/\" + dataset)\n",
    "    y = df.iloc[:,-1]\n",
    "    X = df.iloc[:,:-1]\n",
    "    scaler = StandardScaler()\n",
    "    print(scaler.fit(X))\n",
    "    \n",
    "    X = scaler.transform(X)\n",
    "    X = pd.DataFrame(X)\n",
    "\n",
    "    pca = PCA(n_components=X.shape[1])\n",
    "    \n",
    "    X_pca = pca.fit_transform(X)\n",
    "    explained_variance = pca.explained_variance_\n",
    "    explained_variance\n",
    "    pd.DataFrame({\n",
    "        'Explained Variance': pca.explained_variance_,\n",
    "        'Explained Variance Ratio': pca.explained_variance_ratio_,\n",
    "    }, index=['PC{}'.format(i+1) for i in range(X.shape[1])])\n",
    "    \n",
    "    pca = PCA(n_components=4)\n",
    "    X_pca = pca.fit_transform(X)\n",
    "    tfdataset = pd.DataFrame(data = X_pca)\n",
    "    #print(tfdataset)\n",
    "    \n",
    "    X_train, X_test , y_train, y_test = train_test_split(tfdataset, y,test_size=0.3,random_state=1)\n",
    "    \n",
    "    #print(X_test)\n",
    "    #build the model\n",
    "    reg = linear_model.LinearRegression()\n",
    "    reg.fit(X_train, y_train)\n",
    "    print('Coefficients: ', reg.coef_)\n",
    "    \n",
    "    # variance score: 1 means perfect prediction\n",
    "    print('Variance score train: {}'.format(reg.score(X_train, y_train)))\n",
    "    print('Variance score test: {}'.format(reg.score(X_test, y_test)))\n",
    "    #test the model\n",
    "    y_pred=reg.predict(X_test)\n",
    "    residual=y_test-y_pred\n",
    "    MRE=sum((abs(residual)/y_test))\n",
    "    MMRE=MRE/len(y_test)\n",
    "    print('MMRE:',MMRE)\n",
    "    SQResidual=residual*residual\n",
    "    SSE=sum(SQResidual)\n",
    "    MSE=SSE/len(y_pred)\n",
    "    print('MSE:', MSE)\n",
    "    RMSE=np.sqrt(MSE)\n",
    "    print('RMSE:', RMSE)\n",
    "    MAE=sum(abs(residual))/len(y_pred)\n",
    "    \n",
    "    print('MAE:',MAE)\n",
    "    \n",
    "    k=4\n",
    "    temp=(1-reg.score(X_test, y_test))*(len(y)-1)\n",
    "    temp1=(len(y_test)-k-1)\n",
    "    temp2=temp/temp1\n",
    "    print('Adj. R Square:',1-temp2)\n",
    "    print()"
   ]
  },
  {
   "cell_type": "code",
   "execution_count": 29,
   "id": "da1d3840-93fd-40f0-b01b-c1aa6e94d13a",
   "metadata": {},
   "outputs": [
    {
     "name": "stdout",
     "output_type": "stream",
     "text": [
      "QUES.csv\n",
      "StandardScaler()\n",
      "Coefficients:  [ 3.61301844 21.54042214 -5.7350939  14.06319055]\n",
      "Variance score train: 0.47555824028304106\n",
      "Variance score test: 0.22457848199637465\n",
      "MMRE: 0.4537917918910124\n",
      "MSE: 993.5216368267403\n",
      "RMSE: 31.52017824865114\n",
      "MAE: 22.1536381563986\n",
      "Adj. R Square: -2.1929121329561045\n",
      "\n",
      "UIMS.csv\n",
      "StandardScaler()\n",
      "Coefficients:  [ 14.69916386   2.7808224   18.29339508 -13.84579741]\n",
      "Variance score train: 0.8119563753893\n",
      "Variance score test: 0.1419397635511146\n",
      "MMRE: 2.0736514118195184\n",
      "MSE: 8684.49319936723\n",
      "RMSE: 93.19062828078386\n",
      "MAE: 51.735685068254135\n",
      "Adj. R Square: -3.6580412835796636\n",
      "\n"
     ]
    }
   ],
   "source": [
    "datasets = ['QUES.csv', 'UIMS.csv']\n",
    "\n",
    "for dataset in datasets:\n",
    "    exp7a(dataset)"
   ]
  },
  {
   "cell_type": "code",
   "execution_count": null,
   "id": "4299b654-0d5a-4f7b-aea4-0eacc85c1ac6",
   "metadata": {},
   "outputs": [],
   "source": []
  }
 ],
 "metadata": {
  "kernelspec": {
   "display_name": "Python 3 (ipykernel)",
   "language": "python",
   "name": "python3"
  },
  "language_info": {
   "codemirror_mode": {
    "name": "ipython",
    "version": 3
   },
   "file_extension": ".py",
   "mimetype": "text/x-python",
   "name": "python",
   "nbconvert_exporter": "python",
   "pygments_lexer": "ipython3",
   "version": "3.11.4"
  }
 },
 "nbformat": 4,
 "nbformat_minor": 5
}
