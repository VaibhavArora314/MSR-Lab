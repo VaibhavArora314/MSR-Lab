{
 "cells": [
  {
   "cell_type": "code",
   "execution_count": 4,
   "id": "c31705f8-41be-4200-9346-d9ca5f168dd0",
   "metadata": {},
   "outputs": [
    {
     "name": "stdout",
     "output_type": "stream",
     "text": [
      "Top 4 original features after PCA:\n",
      "['size1', 'rfc', 'wmc', 'size2']\n"
     ]
    }
   ],
   "source": [
    "from sklearn.decomposition import PCA\n",
    "import pandas as pd\n",
    "\n",
    "data = pd.read_csv(\"../dataset/QUES.csv\")  \n",
    "\n",
    "# X = data.drop(columns=['change'])\n",
    "\n",
    "pca = PCA(n_components=4)\n",
    "principalComponents = pca.fit_transform(X)\n",
    "\n",
    "abs_components = abs(pca.components_)\n",
    "\n",
    "top_4_original_feature_indices = abs_components.argsort(axis=1)[:, ::-1][:, :4]\n",
    "\n",
    "top_4_original_feature_names = []\n",
    "\n",
    "for i in range(top_4_original_feature_indices.shape[0]):\n",
    "    top_4_original_feature_names.append([X.columns[j] for j in top_4_original_feature_indices[i]])\n",
    "\n",
    "print(\"Top 4 original features after PCA:\")\n",
    "print(top_4_original_feature_names[0])"
   ]
  },
  {
   "cell_type": "code",
   "execution_count": 5,
   "id": "5c155d97-26db-4343-8c5c-4547018ba1d8",
   "metadata": {},
   "outputs": [
    {
     "name": "stdout",
     "output_type": "stream",
     "text": [
      "Top 4 original features after PCA:\n",
      "['size1', 'rfc', 'wmc', 'size2']\n"
     ]
    }
   ],
   "source": [
    "data = pd.read_csv(\"../dataset/UIMS.csv\")  \n",
    "\n",
    "# X = data.drop(columns=['change'])\n",
    "\n",
    "pca = PCA(n_components=4)\n",
    "principalComponents = pca.fit_transform(X)\n",
    "\n",
    "abs_components = abs(pca.components_)\n",
    "\n",
    "top_4_original_feature_indices = abs_components.argsort(axis=1)[:, ::-1][:, :4]\n",
    "\n",
    "top_4_original_feature_names = []\n",
    "\n",
    "for i in range(top_4_original_feature_indices.shape[0]):\n",
    "    top_4_original_feature_names.append([X.columns[j] for j in top_4_original_feature_indices[i]])\n",
    "\n",
    "print(\"Top 4 original features after PCA:\")\n",
    "print(top_4_original_feature_names[0])"
   ]
  },
  {
   "cell_type": "code",
   "execution_count": null,
   "id": "0f0aad04-9ce0-4da9-9b2e-7abcac6de2c9",
   "metadata": {},
   "outputs": [],
   "source": []
  }
 ],
 "metadata": {
  "kernelspec": {
   "display_name": "Python 3 (ipykernel)",
   "language": "python",
   "name": "python3"
  },
  "language_info": {
   "codemirror_mode": {
    "name": "ipython",
    "version": 3
   },
   "file_extension": ".py",
   "mimetype": "text/x-python",
   "name": "python",
   "nbconvert_exporter": "python",
   "pygments_lexer": "ipython3",
   "version": "3.11.4"
  }
 },
 "nbformat": 4,
 "nbformat_minor": 5
}
