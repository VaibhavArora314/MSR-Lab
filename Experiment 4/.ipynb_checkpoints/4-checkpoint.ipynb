{
 "cells": [
  {
   "cell_type": "code",
   "execution_count": 18,
   "id": "c31705f8-41be-4200-9346-d9ca5f168dd0",
   "metadata": {},
   "outputs": [],
   "source": [
    "import numpy as np\n",
    "import pandas as pd\n",
    "from sklearn import linear_model\n",
    "from sklearn import metrics\n",
    "from sklearn.model_selection import train_test_split"
   ]
  },
  {
   "cell_type": "code",
   "execution_count": 19,
   "id": "0c42bafa-c3fd-4fa3-b409-4780d3440e2e",
   "metadata": {},
   "outputs": [],
   "source": [
    "datasets = ['QUES.csv', 'UIMS.csv']"
   ]
  },
  {
   "cell_type": "code",
   "execution_count": 20,
   "id": "411e6fc2-e61a-40a2-8f0a-b08a6f7af3a4",
   "metadata": {},
   "outputs": [],
   "source": [
    "def regParameters(X_train, X_test , y_train, y_test):\n",
    "    reg = linear_model.LinearRegression()\n",
    "    reg.fit(X_train, y_train)\n",
    "\n",
    "    print('Coefficients: ', reg.coef_)\n",
    "    # variance score: 1 means perfect prediction\n",
    "    print('Variance score train: {}'.format(reg.score(X_train, y_train)))\n",
    "    print('Variance score test: {}'.format(reg.score(X_test, y_test)))\n",
    "    \n",
    "    y_pred=reg.predict(X_test)\n",
    "    \n",
    "    residual=y_test-y_pred\n",
    "    MRE=sum((abs(residual)/y_test))\n",
    "    MMRE=MRE/len(y_test)\n",
    "    print('MMRE:',MMRE)\n",
    "    SQResidual=residual*residual\n",
    "    SSE=sum(SQResidual)\n",
    "    MSE=SSE/len(y_pred)\n",
    "    print('MSE:', MSE)\n",
    "    RMSE=np.sqrt(MSE)\n",
    "    print('RMSE:', RMSE)\n",
    "    MAE=sum(abs(residual))/len(y_pred)\n",
    "    print('MAE:',MAE)\n",
    "    \n",
    "    p = X_test.shape[1]\n",
    "    n = len(y_test)\n",
    "    \n",
    "    r_squared = metrics.r2_score(y_test, y_pred)\n",
    "    adj_r_squared = 1 - ((1 - r_squared) * (n - 1) / (n - p - 1))\n",
    "    \n",
    "    print('R^2 score:', r_squared)\n",
    "    print('Adjusted R^2 score:', adj_r_squared)"
   ]
  },
  {
   "cell_type": "code",
   "execution_count": 21,
   "id": "ffcb3c89-182c-4cde-aa02-ecc5355d2649",
   "metadata": {},
   "outputs": [],
   "source": [
    "def regAnalysis(dataset):\n",
    "    df = pd.read_csv(\"../dataset/\" + dataset)\n",
    "    X= df.iloc[:,:-1]\n",
    "    Y = df.iloc[:,-1]\n",
    "    print(f\"Dataset: {dataset} with shape {df.shape}\")\n",
    "\n",
    "    X_train, X_test , y_train, y_test = train_test_split(X, Y,test_size=0.3,random_state=1)\n",
    "    print(\"Values of Full Model\")\n",
    "    regParameters(X_train, X_test , y_train, y_test)\n",
    "    \n",
    "    X_train_oo = X_train.iloc[:,:-2]\n",
    "    X_test_oo = X_test.iloc[:,:-2]\n",
    "    print(\"Values of OO Model\")\n",
    "    regParameters(X_train_oo, X_test_oo , y_train, y_test)\n",
    "\n",
    "    X_train_size = X_train.iloc[:,-2:]\n",
    "    X_test_size = X_test.iloc[:,-2:]"
   ]
  },
  {
   "cell_type": "code",
   "execution_count": 22,
   "id": "0091db64-c192-4274-830c-0a7201dac3b3",
   "metadata": {},
   "outputs": [
    {
     "name": "stdout",
     "output_type": "stream",
     "text": [
      "Dataset: QUES.csv with shape (71, 10)\n",
      "Values of Full Model\n",
      "Coefficients:  [  2.46926869  -1.48354162   1.0000219   -4.79520102 -11.39207493\n",
      "  -2.21080312  -1.89839075   3.06716216   0.42226446]\n",
      "Variance score train: 0.780034871156154\n",
      "Variance score test: 0.490968090578458\n",
      "MMRE: 0.3827529851647567\n",
      "MSE: 652.2055476969198\n",
      "RMSE: 25.538315286974584\n",
      "MAE: 19.87167832469529\n",
      "R^2 score: 0.490968090578458\n",
      "Adjusted R^2 score: 0.10919415851230152\n",
      "Values of OO Model\n",
      "Coefficients:  [15.70591911  1.2092084   0.90287434 -7.21463794 -8.83709287  0.74008062\n",
      "  3.96410509]\n",
      "Variance score train: 0.4810100958663531\n",
      "Variance score test: 0.5815407889424657\n",
      "MMRE: 0.315706422736392\n",
      "MSE: 536.1577808486403\n",
      "RMSE: 23.155081102182308\n",
      "MAE: 18.176603502241765\n",
      "R^2 score: 0.5815407889424657\n",
      "Adjusted R^2 score: 0.3723111834136986\n",
      "Dataset: UIMS.csv with shape (39, 11)\n",
      "Values of Full Model\n",
      "Coefficients:  [ 5.20974931  2.32607938  5.24603829 -2.23118975  0.59155037  7.65401718\n",
      "  2.32844038 -3.87349491  3.60965333  0.00826599]\n",
      "Variance score train: 0.9150458242775936\n",
      "Variance score test: 0.22865603260580758\n",
      "MMRE: 1.391784179521351\n",
      "MSE: 7806.831216105242\n",
      "RMSE: 88.3562743448661\n",
      "MAE: 43.964686579639846\n",
      "R^2 score: 0.22865603260580758\n",
      "Adjusted R^2 score: -7.484783641336117\n",
      "Values of OO Model\n",
      "Coefficients:  [ 3.88525309  2.10310373  6.17879029 -2.49684355  0.49057822 10.77214797\n",
      "  2.26737201  0.30011796]\n",
      "Variance score train: 0.9137883431868083\n",
      "Variance score test: 0.20808275399484488\n",
      "MMRE: 1.3569187298492233\n",
      "MSE: 8015.054940496689\n",
      "RMSE: 89.526839218732\n",
      "MAE: 44.67100186511187\n",
      "R^2 score: 0.20808275399484488\n",
      "Adjusted R^2 score: -1.9036965686855685\n"
     ]
    }
   ],
   "source": [
    "for dataset in datasets:\n",
    "    regAnalysis(dataset)"
   ]
  },
  {
   "cell_type": "code",
   "execution_count": null,
   "id": "e39d17c1-614d-4e3a-a870-3838b918ed98",
   "metadata": {},
   "outputs": [],
   "source": []
  }
 ],
 "metadata": {
  "kernelspec": {
   "display_name": "Python 3 (ipykernel)",
   "language": "python",
   "name": "python3"
  },
  "language_info": {
   "codemirror_mode": {
    "name": "ipython",
    "version": 3
   },
   "file_extension": ".py",
   "mimetype": "text/x-python",
   "name": "python",
   "nbconvert_exporter": "python",
   "pygments_lexer": "ipython3",
   "version": "3.11.4"
  }
 },
 "nbformat": 4,
 "nbformat_minor": 5
}
