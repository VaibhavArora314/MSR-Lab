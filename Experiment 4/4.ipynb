{
 "cells": [
  {
   "cell_type": "code",
   "execution_count": 39,
   "id": "c31705f8-41be-4200-9346-d9ca5f168dd0",
   "metadata": {},
   "outputs": [],
   "source": [
    "import numpy as np\n",
    "import pandas as pd\n",
    "from sklearn import linear_model\n",
    "from sklearn import metrics\n",
    "from sklearn.model_selection import train_test_split"
   ]
  },
  {
   "cell_type": "code",
   "execution_count": 40,
   "id": "0c42bafa-c3fd-4fa3-b409-4780d3440e2e",
   "metadata": {},
   "outputs": [],
   "source": [
    "datasets = ['QUES.csv', 'UIMS.csv']"
   ]
  },
  {
   "cell_type": "code",
   "execution_count": 41,
   "id": "411e6fc2-e61a-40a2-8f0a-b08a6f7af3a4",
   "metadata": {},
   "outputs": [],
   "source": [
    "def regParameters(X_train, X_test , y_train, y_test):\n",
    "    reg = linear_model.LinearRegression()\n",
    "    reg.fit(X_train, y_train)\n",
    "\n",
    "    y_pred=reg.predict(X_test)\n",
    "    \n",
    "    residual=y_test-y_pred\n",
    "    MRE=sum((abs(residual)/y_test))\n",
    "    MMRE=MRE/len(y_test)\n",
    "    SQResidual=residual*residual\n",
    "    SSE=sum(SQResidual)\n",
    "    MSE=SSE/len(y_pred)\n",
    "    RMSE=np.sqrt(MSE)\n",
    "    MAE=sum(abs(residual))/len(y_pred)\n",
    "    \n",
    "    p = X_test.shape[1]\n",
    "    n = len(y_test)\n",
    "    \n",
    "    r_squared = metrics.r2_score(y_test, y_pred)\n",
    "    adj_r_squared = 1 - ((1 - r_squared) * (n - 1) / (n - p - 1))\n",
    "    \n",
    "    return {\n",
    "        'R^2 score': r_squared,\n",
    "        'Adjusted R^2 score': adj_r_squared,\n",
    "        'MAE': MAE,\n",
    "        'MSE': MSE,\n",
    "        'RMSE': RMSE,\n",
    "        'MMRE': MMRE,\n",
    "    }"
   ]
  },
  {
   "cell_type": "code",
   "execution_count": 42,
   "id": "ffcb3c89-182c-4cde-aa02-ecc5355d2649",
   "metadata": {},
   "outputs": [],
   "source": [
    "def regAnalysis(dataset):\n",
    "    df = pd.read_csv(\"../dataset/\" + dataset)\n",
    "    X= df.iloc[:,:-1]\n",
    "    Y = df.iloc[:,-1]\n",
    "    print(f\"Dataset: {dataset} with shape {df.shape}\")\n",
    "\n",
    "    X_train, X_test , y_train, y_test = train_test_split(X, Y,test_size=0.3,random_state=1)\n",
    "    \n",
    "    results = {\n",
    "        'Full Model': regParameters(X_train, X_test , y_train, y_test),\n",
    "        'OO Model': regParameters(X_train.iloc[:,:-2], X_test.iloc[:,:-2] , y_train, y_test),\n",
    "        'Size Model': regParameters(X_train.iloc[:,-2:], X_test.iloc[:,-2:] , y_train, y_test)\n",
    "    }\n",
    "    \n",
    "    results_df = pd.DataFrame(results).T\n",
    "    print(results_df.to_string())\n",
    "    print()"
   ]
  },
  {
   "cell_type": "code",
   "execution_count": 43,
   "id": "0091db64-c192-4274-830c-0a7201dac3b3",
   "metadata": {},
   "outputs": [
    {
     "name": "stdout",
     "output_type": "stream",
     "text": [
      "Dataset: QUES.csv with shape (71, 10)\n",
      "            R^2 score  Adjusted R^2 score        MAE         MSE       RMSE      MMRE\n",
      "Full Model   0.490968            0.109194  19.871678  652.205548  25.538315  0.382753\n",
      "OO Model     0.581541            0.372311  18.176604  536.157781  23.155081  0.315706\n",
      "Size Model   0.577141            0.532629  16.751197  541.795614  23.276503  0.407710\n",
      "\n",
      "Dataset: UIMS.csv with shape (39, 11)\n",
      "            R^2 score  Adjusted R^2 score        MAE          MSE       RMSE      MMRE\n",
      "Full Model   0.228656           -7.484784  43.964687  7806.831216  88.356274  1.391784\n",
      "OO Model     0.208083           -1.903697  44.671002  8015.054940  89.526839  1.356919\n",
      "Size Model   0.225861            0.053830  48.655127  7835.120704  88.516217  3.277077\n",
      "\n"
     ]
    }
   ],
   "source": [
    "for dataset in datasets:\n",
    "    regAnalysis(dataset)"
   ]
  },
  {
   "cell_type": "code",
   "execution_count": null,
   "id": "e39d17c1-614d-4e3a-a870-3838b918ed98",
   "metadata": {},
   "outputs": [],
   "source": []
  }
 ],
 "metadata": {
  "kernelspec": {
   "display_name": "Python 3 (ipykernel)",
   "language": "python",
   "name": "python3"
  },
  "language_info": {
   "codemirror_mode": {
    "name": "ipython",
    "version": 3
   },
   "file_extension": ".py",
   "mimetype": "text/x-python",
   "name": "python",
   "nbconvert_exporter": "python",
   "pygments_lexer": "ipython3",
   "version": "3.11.4"
  }
 },
 "nbformat": 4,
 "nbformat_minor": 5
}
