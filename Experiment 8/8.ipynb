{
 "cells": [
  {
   "cell_type": "code",
   "execution_count": 1,
   "id": "6c1491f2-8395-4b5b-9216-96f9fceea2aa",
   "metadata": {},
   "outputs": [
    {
     "name": "stdout",
     "output_type": "stream",
     "text": [
      "   dit  noc  mpc  rfc  lcom  dac  wmc  nom  size2  size1  change\n",
      "0    1    3    4   14     5    1    3    7      9     37      14\n",
      "1    3    0    6   20     6    2    5    7      9     94      18\n",
      "2    2    0    1   12     4    1    1    6      7     26       2\n",
      "3    2    0    1    2     1    0    1    1      1      4       2\n",
      "4    1    0    1   21    12    8    0   18     26     60      10\n",
      "5    1    8    1    7     3    1    0    4      5     12      16\n",
      "6    3    1    2   12     6    1    0    6      7     26      16\n",
      "7    2    0    1   10     7    1    9    7      8     59      18\n",
      "8    2    0    1    2     1    0    1    1      1      4       2\n",
      "9    3    0    9   24     5    1    5    5      6     81      16\n"
     ]
    }
   ],
   "source": [
    "import pandas as pd\n",
    "from scipy.stats import ttest_ind, ttest_rel\n",
    "\n",
    "data = pd.read_csv('../dataset/UIMS.csv')\n",
    "print(data.head(10))"
   ]
  },
  {
   "cell_type": "code",
   "execution_count": 4,
   "id": "f37cafdd-342e-45fc-823f-0d29198ffe26",
   "metadata": {},
   "outputs": [
    {
     "name": "stdout",
     "output_type": "stream",
     "text": [
      "Independent t-test results:\n",
      "T-statistic: 3.4111560479678253\n",
      "P-value: 0.001039031624721492\n",
      "Reject Null Hypothesis (DIT and NOC are significantly  different )\n"
     ]
    }
   ],
   "source": [
    "# Assuming columns are independent for t-test\n",
    "A = data['dit']\n",
    "B = data['noc']\n",
    "\n",
    "# Perform independent t-test\n",
    "independent_t_statistic, independent_p_value = ttest_ind(A, B)\n",
    "print(\"Independent t-test results:\")\n",
    "print(\"T-statistic:\", independent_t_statistic)\n",
    "print(\"P-value:\", independent_p_value)\n",
    "\n",
    "alpha=0.05\n",
    "if independent_p_value < alpha: \n",
    "    print('Reject Null Hypothesis (DIT and NOC are significantly  different )') \n",
    "else: \n",
    "    print('Do not Reject Null Hypothesis (There is no significant  difference in DIT and NOC)')"
   ]
  },
  {
   "cell_type": "code",
   "execution_count": 6,
   "id": "e9d651d1-fd1f-4f92-a5f4-3442333d1c17",
   "metadata": {},
   "outputs": [
    {
     "name": "stdout",
     "output_type": "stream",
     "text": [
      "Pair t-test results:\n",
      "T-statistic: 2.7792333351186045\n",
      "P-value: 0.014771636573007953\n",
      "Reject Null Hypothesis (CBO before and after refactoring are significantly  different )\n"
     ]
    }
   ],
   "source": [
    "before = [45, 48, 49, 52, 56, 58, 66, 67, 74, 75, 81, 82, 83, 88, 90]  \n",
    "after = [43, 47, 49, 52, 56, 57, 66, 67, 74, 73, 80, 82, 83, 87, 90] \n",
    "  \n",
    "statt, p_value= ttest_rel(before, after) \n",
    "\n",
    "print(\"Pair t-test results:\")\n",
    "print(\"T-statistic:\",statt)\n",
    "print(\"P-value:\",p_value)\n",
    "alpha = 0.05\n",
    "\n",
    "if p_value < alpha: \n",
    "    print('Reject Null Hypothesis (CBO before and after refactoring are significantly  different )') \n",
    "else: \n",
    "    print('Do not Reject Null Hypothesis (There is no difference CBO before and after refactoring )')"
   ]
  },
  {
   "cell_type": "code",
   "execution_count": null,
   "id": "ccf7fb7e-6651-483a-8c4e-d957242ed640",
   "metadata": {},
   "outputs": [],
   "source": []
  }
 ],
 "metadata": {
  "kernelspec": {
   "display_name": "Python 3 (ipykernel)",
   "language": "python",
   "name": "python3"
  },
  "language_info": {
   "codemirror_mode": {
    "name": "ipython",
    "version": 3
   },
   "file_extension": ".py",
   "mimetype": "text/x-python",
   "name": "python",
   "nbconvert_exporter": "python",
   "pygments_lexer": "ipython3",
   "version": "3.11.4"
  }
 },
 "nbformat": 4,
 "nbformat_minor": 5
}
